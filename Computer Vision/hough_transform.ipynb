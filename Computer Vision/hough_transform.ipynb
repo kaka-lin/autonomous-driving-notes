{
 "cells": [
  {
   "cell_type": "markdown",
   "metadata": {},
   "source": [
    "# Hough Transform\n",
    "\n",
    "The `Hough Transform` is a feature extraction technique used in `image analysis`, `computer vision`, and `digitial image processing`. The purpose of the technique is for detecting simple shapes such as lines, circles, etc in an image.\n",
    "\n",
    "Here, we will know how it works and implement it with python."
   ]
  },
  {
   "cell_type": "markdown",
   "metadata": {},
   "source": [
    "## How to represent a line?\n",
    "\n",
    "<img style=\"float:right;\" src=\"img/line_parameterization.png\" width=\"300\" height=\"100\"/>\n",
    "\n",
    "A line can be represented one of the two forms:\n",
    "\n",
    "(1) $ y = mx + b $ (`Cartesian coordinate system`)\n",
    "\n",
    "(2) $ {\\rho} = xcos(\\theta) + ysin(\\theta) $ (`Polar coordinate system`)\n",
    "\n",
    "where:\n",
    "\n",
    "```\n",
    "• ρ (rho): The perpendicular distance from origin to the line.\n",
    "• θ (theta): The angle formed by this perpendicular line and horizontal axis.\n",
    "```"
   ]
  },
  {
   "cell_type": "markdown",
   "metadata": {},
   "source": [
    "## Image, Parameter and Hough Space\n",
    "\n",
    "- In `image space`, a line is plotted as `x vs. y`.\n",
    "- In `parameter space`, a line can be represented by a point in `m vs. b`.\n",
    "\n",
    "<img src=\"img/image_parameter_space_1.png\"/>\n",
    "\n",
    "\n",
    "In general, the straight line `y = mx + b` can be represented as a point (b, m) in the parameter space. However, the `slope m` would rise to `unbounded` (division by 0) when the line is vertical.\n",
    "\n",
    "To overcome this, we use another parameter space, `hough space: (ρ, θ)`.\n",
    "\n",
    "<img src=\"img/image_parameter_space_2.jpeg\"/>\n",
    "\n"
   ]
  },
  {
   "cell_type": "markdown",
   "metadata": {},
   "source": [
    "## Accumulator\n",
    "\n",
    "It's a 2D matrix to hold values of two parameters, `ρ` and `θ`.\n",
    "\n",
    "In accumulator (2D matrix), if we any pick a (ρ, θ), it corresponds to a line.\n",
    "And the more curves intersect at a point the more `votes` a line in image space will receive.\n",
    "\n",
    "<img src=\"img/accumulator.png\" width=\"50%\" height=\"50%\">\n",
    "\n",
    "\n",
    "### Size of Accumulator\n",
    "\n",
    "<img src=\"img/size_of_accumulator.png\" width=\"50%\" height=\"50%\">\n",
    "\n",
    "As the image shows, we can know:\n",
    "\n",
    "```\n",
    "• θ (theta) ranges: [-90, 90]\n",
    "• ρ (rho) ranges: [-max_dist, max_dist], where max_dist is the diagonal length of the image.\n",
    "```"
   ]
  },
  {
   "cell_type": "markdown",
   "metadata": {},
   "source": [
    "# Algorithm"
   ]
  },
  {
   "cell_type": "code",
   "execution_count": 1,
   "metadata": {
    "ExecuteTime": {
     "end_time": "2019-07-28T08:51:13.119146Z",
     "start_time": "2019-07-28T08:51:12.565340Z"
    },
    "scrolled": true
   },
   "outputs": [],
   "source": [
    "# import all the necessary libraries\n",
    "import cv2\n",
    "import numpy as np\n",
    "import matplotlib.pyplot as plt\n",
    "%matplotlib inline"
   ]
  },
  {
   "cell_type": "markdown",
   "metadata": {},
   "source": [
    "## Corner or Edge detection\n",
    "\n",
    "The resultant of the image that done by edge detection will have `0` indicating non-edges and `1(255)` indicating edges.\n",
    "\n",
    "So, we use a binary image here."
   ]
  },
  {
   "cell_type": "code",
   "execution_count": 2,
   "metadata": {
    "ExecuteTime": {
     "end_time": "2019-07-28T08:51:13.435578Z",
     "start_time": "2019-07-28T08:51:13.122264Z"
    }
   },
   "outputs": [
    {
     "data": {
      "text/plain": [
       "<matplotlib.image.AxesImage at 0x1207ef978>"
      ]
     },
     "execution_count": 2,
     "metadata": {},
     "output_type": "execute_result"
    },
    {
     "data": {
      "image/png": "[encoded data removed]",
      "text/plain": [
       "<Figure size 432x288 with 1 Axes>"
      ]
     },
     "metadata": {},
     "output_type": "display_data"
    }
   ],
   "source": [
    "# Create binary image\n",
    "img = np.zeros((50,50))\n",
    "\n",
    "# np.eye(): return a 2-D array with ones on the diagonal \n",
    "#           and zeros elsewhere.\n",
    "img[10:40, 10:40] = np.eye(30)\n",
    "plt.imshow(img, cmap='gray')"
   ]
  },
  {
   "cell_type": "markdown",
   "metadata": {},
   "source": [
    "## Initialize Accumulator"
   ]
  },
  {
   "cell_type": "code",
   "execution_count": 3,
   "metadata": {
    "ExecuteTime": {
     "end_time": "2019-07-28T08:51:13.446941Z",
     "start_time": "2019-07-28T08:51:13.439396Z"
    }
   },
   "outputs": [],
   "source": [
    "def init_accumulator(img):\n",
    "    # rho and theta ranges\n",
    "    thetas = np.deg2rad(np.arange(-90.0, 90.0))\n",
    "    height, width = img.shape\n",
    "    # np.ceil(): return the celling(上限) of the input, element-wise.\n",
    "    #            大於該數的最小整數\n",
    "    diag_len = np.ceil(np.sqrt(np.square(width) + np.square(height)))\n",
    "    rhos = np.linspace(-diag_len, diag_len, diag_len * 2)\n",
    "    \n",
    "    # Initialize accumulator array of theta(column, x-axis) vs rho(row, y-axis)\n",
    "    accumulator = np.zeros((2 * diag_len.astype(int), len(thetas)), dtype=np.uint64)\n",
    "                           \n",
    "    return (rhos, thetas, accumulator)"
   ]
  },
  {
   "cell_type": "markdown",
   "metadata": {},
   "source": [
    "## Hough Transform\n",
    "\n",
    "- Voting by edge pixels"
   ]
  },
  {
   "cell_type": "code",
   "execution_count": 4,
   "metadata": {
    "ExecuteTime": {
     "end_time": "2019-07-28T08:51:13.472785Z",
     "start_time": "2019-07-28T08:51:13.453524Z"
    }
   },
   "outputs": [],
   "source": [
    "def hough_line(img):\n",
    "    rhos, thetas, accumulator = init_accumulator(img)\n",
    "    \n",
    "    diag_len = accumulator.shape[0] / 2\n",
    "    cos_t = np.cos(thetas)\n",
    "    sin_t = np.sin(thetas)\n",
    "    \n",
    "    # (row, col) indexes to edges\n",
    "    y_idxs, x_idxs = np.nonzero(img) \n",
    "    \n",
    "    # vote in the accumulator matrix\n",
    "    for i in range(len(x_idxs)):\n",
    "        x = x_idxs[i]\n",
    "        y = y_idxs[i]\n",
    "        \n",
    "        for t_idx in range(len(thetas)):\n",
    "            # calculate rho. \n",
    "            # `diag_len` is added for a positive index, \n",
    "            # because rho is (-diag_len to diag_len)\n",
    "            rho = (round(x * cos_t[t_idx] + y * sin_t[t_idx]) + diag_len).astype(int)\n",
    "            accumulator[rho, t_idx] += 1\n",
    "    \n",
    "    return (rhos, thetas, accumulator)"
   ]
  },
  {
   "cell_type": "markdown",
   "metadata": {},
   "source": [
    "## Peak finding"
   ]
  },
  {
   "cell_type": "code",
   "execution_count": 5,
   "metadata": {
    "ExecuteTime": {
     "end_time": "2019-07-28T08:51:13.582362Z",
     "start_time": "2019-07-28T08:51:13.476889Z"
    }
   },
   "outputs": [
    {
     "name": "stdout",
     "output_type": "stream",
     "text": [
      "rho: 0.50, theta: -45\n"
     ]
    },
    {
     "name": "stderr",
     "output_type": "stream",
     "text": [
      "/usr/local/lib/python3.6/site-packages/ipykernel_launcher.py:8: DeprecationWarning: object of type <class 'numpy.float64'> cannot be safely interpreted as an integer.\n",
      "  \n"
     ]
    }
   ],
   "source": [
    "# hough line\n",
    "rhos, thetas, accumulator = hough_line(img)\n",
    "\n",
    "# Easiest peak finding based on max votes\n",
    "idx = np.argmax(accumulator) # idx = row x column\n",
    "rho = rhos[idx // accumulator.shape[1]]\n",
    "theta = thetas[idx % accumulator.shape[1]]\n",
    "print(\"rho: {:.2f}, theta: {:.0f}\".format(rho, np.rad2deg(theta)))"
   ]
  },
  {
   "cell_type": "markdown",
   "metadata": {},
   "source": [
    "## Display results"
   ]
  },
  {
   "cell_type": "code",
   "execution_count": 6,
   "metadata": {
    "ExecuteTime": {
     "end_time": "2019-07-28T08:51:14.424877Z",
     "start_time": "2019-07-28T08:51:13.585298Z"
    }
   },
   "outputs": [
    {
     "data": {
      "image/png": "[encoded data removed]",
      "text/plain": [
       "<Figure size 720x360 with 2 Axes>"
      ]
     },
     "metadata": {},
     "output_type": "display_data"
    }
   ],
   "source": [
    "plt.rcParams['figure.figsize'] = [10, 5]\n",
    "plt.subplot(121)\n",
    "plt.imshow(img, cmap=\"gray\")\n",
    "plt.title(\"Input image\")\n",
    "plt.axis(\"image\")\n",
    "plt.tight_layout()\n",
    "plt.subplot(122)\n",
    "plt.imshow(accumulator, cmap=\"jet\",\n",
    "    extent=[np.rad2deg(thetas[0]), np.rad2deg(thetas[-1]), rhos[-1], rhos[0]])\n",
    "plt.title(\"Hough transform\")\n",
    "plt.xlabel(\"Angles (degrees)\")\n",
    "plt.ylabel(\"Distance (pixels)\")\n",
    "plt.axis(\"image\")\n",
    "plt.tight_layout()"
   ]
  },
  {
   "cell_type": "markdown",
   "metadata": {},
   "source": [
    "# Reference\n",
    "\n",
    "- https://en.wikipedia.org/wiki/Hough_transform\n",
    "\n",
    "- https://alyssaq.github.io/2014/understanding-hough-transform/#Extras\n",
    "\n",
    "- https://www.learnopencv.com/hough-transform-with-opencv-c-python/"
   ]
  }
 ],
 "metadata": {
  "kernelspec": {
   "display_name": "Python 3",
   "language": "python",
   "name": "python3"
  },
  "language_info": {
   "codemirror_mode": {
    "name": "ipython",
    "version": 3
   },
   "file_extension": ".py",
   "mimetype": "text/x-python",
   "name": "python",
   "nbconvert_exporter": "python",
   "pygments_lexer": "ipython3",
   "version": "3.6.5"
  },
  "latex_envs": {
   "LaTeX_envs_menu_present": true,
   "autoclose": false,
   "autocomplete": true,
   "bibliofile": "biblio.bib",
   "cite_by": "apalike",
   "current_citInitial": 1,
   "eqLabelWithNumbers": true,
   "eqNumInitial": 1,
   "hotkeys": {
    "equation": "Ctrl-E",
    "itemize": "Ctrl-I"
   },
   "labels_anchors": false,
   "latex_user_defs": false,
   "report_style_numbering": false,
   "user_envs_cfg": false
  },
  "toc": {
   "base_numbering": 1,
   "nav_menu": {},
   "number_sections": true,
   "sideBar": true,
   "skip_h1_title": false,
   "title_cell": "Table of Contents",
   "title_sidebar": "Contents",
   "toc_cell": false,
   "toc_position": {
    "height": "calc(100% - 180px)",
    "left": "10px",
    "top": "150px",
    "width": "377px"
   },
   "toc_section_display": true,
   "toc_window_display": true
  }
 },
 "nbformat": 4,
 "nbformat_minor": 2
}
