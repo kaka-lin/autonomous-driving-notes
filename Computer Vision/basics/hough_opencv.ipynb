{
 "cells": [
  {
   "cell_type": "markdown",
   "metadata": {},
   "source": [
    "# Hough Transform\n",
    "\n",
    "Use the OpenCV functions [HoughLines()](https://docs.opencv.org/3.4.3/dd/d1a/group__imgproc__feature.html#ga46b4e588934f6c8dfd509cc6e0e4545a) and [HoughLinesP()](https://docs.opencv.org/3.4.3/dd/d1a/group__imgproc__feature.html#ga8618180a5948286384e3b7ca02f6feeb) to detec lines in an image.\n",
    "\n",
    "- [cv2.HoughLines()](#houghlines)\n",
    "- [cv2.HoughLinesP()](#houghlinesP)"
   ]
  },
  {
   "cell_type": "markdown",
   "metadata": {},
   "source": [
    "## Import all the necessary libraries"
   ]
  },
  {
   "cell_type": "code",
   "execution_count": 1,
   "metadata": {
    "ExecuteTime": {
     "end_time": "2019-07-28T08:50:57.327920Z",
     "start_time": "2019-07-28T08:50:56.803701Z"
    },
    "scrolled": true
   },
   "outputs": [],
   "source": [
    "# import all the necessary libraries\n",
    "import cv2\n",
    "import numpy as np\n",
    "import matplotlib.pyplot as plt\n",
    "%matplotlib inline"
   ]
  },
  {
   "cell_type": "markdown",
   "metadata": {},
   "source": [
    "## Load an image"
   ]
  },
  {
   "cell_type": "code",
   "execution_count": 2,
   "metadata": {
    "ExecuteTime": {
     "end_time": "2019-07-28T08:50:57.701812Z",
     "start_time": "2019-07-28T08:50:57.331846Z"
    }
   },
   "outputs": [
    {
     "data": {
      "text/plain": [
       "<matplotlib.image.AxesImage at 0x1162ef6a0>"
      ]
     },
     "execution_count": 2,
     "metadata": {},
     "output_type": "execute_result"
    },
    {
     "data": {
      "image/png": "[encoded data removed]",
      "text/plain": [
       "<Figure size 432x288 with 1 Axes>"
      ]
     },
     "metadata": {},
     "output_type": "display_data"
    }
   ],
   "source": [
    "img = cv2.imread(\"img/horizontal_vertical.jpg\")\n",
    "img2 = np.copy(img)\n",
    "plt.imshow(img)"
   ]
  },
  {
   "cell_type": "markdown",
   "metadata": {
    "ExecuteTime": {
     "end_time": "2019-07-20T06:54:05.460428Z",
     "start_time": "2019-07-20T06:54:05.443504Z"
    }
   },
   "source": [
    "## Edge detection"
   ]
  },
  {
   "cell_type": "code",
   "execution_count": 3,
   "metadata": {
    "ExecuteTime": {
     "end_time": "2019-07-28T08:50:58.236569Z",
     "start_time": "2019-07-28T08:50:57.706070Z"
    }
   },
   "outputs": [
    {
     "data": {
      "text/plain": [
       "<matplotlib.image.AxesImage at 0x105a12c88>"
      ]
     },
     "execution_count": 3,
     "metadata": {},
     "output_type": "execute_result"
    },
    {
     "data": {
      "image/png": "[encoded data removed]",
      "text/plain": [
       "<Figure size 504x504 with 1 Axes>"
      ]
     },
     "metadata": {},
     "output_type": "display_data"
    }
   ],
   "source": [
    "# conver to gray\n",
    "gray = cv2.cvtColor(img, cv2.COLOR_BGR2GRAY)\n",
    "# blur\n",
    "blur = cv2.GaussianBlur(gray, (5, 5), 0)\n",
    "# canny\n",
    "# apertureSize: aperture size for the `Sobel()` operator.\n",
    "canny = cv2.Canny(blur, 50, 200, apertureSize=3)\n",
    "\n",
    "plt.rcParams['figure.figsize'] = [7, 7]\n",
    "plt.imshow(canny, cmap='gray')\n",
    "\n",
    "#cv2.imshow(\"canny\", canny)\n",
    "#cv2.waitKey(0)\n",
    "#cv2.destroyAllWzindows()"
   ]
  },
  {
   "cell_type": "markdown",
   "metadata": {},
   "source": [
    "<span id=\"houghlines\"></span>\n",
    "## cv2.HoughLines()\n",
    "\n",
    "`The Standar Hough Transform`\n",
    "\n",
    "- It consists in pretty much what we just explained in [hough_transform.ipynb](https://github.com/kaka-lin/self-driving-car/blob/master/finding-lane-lines/hough_transform.ipynb).\n",
    "  It give you as result as a vector of (ρ, θ)\n",
    " \n",
    "`cv2.HoughLines(img, rho, theta, threshold)`\n",
    "    - img:       Binary image (type: np.uint8).\n",
    "    - rho:       Distance resolution of the accumulator in pixels.\n",
    "    - thets:     Angle resolution of the accumulator in radians. \n",
    "    - threshold: Accumulator threshold parameter. \n",
    "                 Only those lines are returned that get enough votes (> 𝚝𝚑𝚛𝚎𝚜𝚑𝚘𝚕𝚍).\n",
    "    \n",
    "    - return:    Vector of lines"
   ]
  },
  {
   "cell_type": "code",
   "execution_count": 4,
   "metadata": {
    "ExecuteTime": {
     "end_time": "2019-07-28T08:50:58.266418Z",
     "start_time": "2019-07-28T08:50:58.246899Z"
    }
   },
   "outputs": [
    {
     "data": {
      "text/plain": [
       "(4, 1, 2)"
      ]
     },
     "execution_count": 4,
     "metadata": {},
     "output_type": "execute_result"
    }
   ],
   "source": [
    "# rho: accuracy of 1 pixel\n",
    "# theta: accuracy of `np.pi/180` (1 degree)\n",
    "# threshold: try 300, 400, 500\n",
    "lines = cv2.HoughLines(canny, 1, np.pi/180, 300)\n",
    "lines.shape"
   ]
  },
  {
   "cell_type": "markdown",
   "metadata": {},
   "source": [
    "### Display the result"
   ]
  },
  {
   "cell_type": "code",
   "execution_count": 5,
   "metadata": {
    "ExecuteTime": {
     "end_time": "2019-07-28T08:50:58.817233Z",
     "start_time": "2019-07-28T08:50:58.269757Z"
    }
   },
   "outputs": [
    {
     "data": {
      "text/plain": [
       "<matplotlib.image.AxesImage at 0x11679d828>"
      ]
     },
     "execution_count": 5,
     "metadata": {},
     "output_type": "execute_result"
    },
    {
     "data": {
      "image/png": "[encoded data removed]",
      "text/plain": [
       "<Figure size 504x504 with 1 Axes>"
      ]
     },
     "metadata": {},
     "output_type": "display_data"
    }
   ],
   "source": [
    "if lines is not None:\n",
    "    for i in range(0, len(lines)):\n",
    "        rho = lines[i][0][0]\n",
    "        theta = lines[i][0][1]\n",
    "        a = np.cos(theta)\n",
    "        b = np.sin(theta)\n",
    "        x0 = a * rho\n",
    "        y0 = b * rho\n",
    "        pt1 = (int(x0 + 1000*(-b)), int(y0 + 1000*(a)))\n",
    "        pt2 = (int(x0 - 1000*(-b)), int(y0 - 1000*(a)))\n",
    "        \n",
    "        cv2.line(img, pt1, pt2, (255, 0, 0), 3, cv2.LINE_AA)\n",
    "plt.imshow(img)\n",
    "#cv2.imshow(\"Hough Line\", img)\n",
    "#cv2.waitKey(0)\n",
    "#cv2.destroyAllWzindows()"
   ]
  },
  {
   "cell_type": "markdown",
   "metadata": {},
   "source": [
    "<span id=\"houghlinesP\"></span>\n",
    "## cv2.HoughLinesP()\n",
    "\n",
    "`The Probabilistic Hough Line Transform`\n",
    "\n",
    "- A more efficient implementation of the Hough Line Transform.\n",
    "  It gives as output the extremes of the detected lines (x0, y0, x1, y1)\n",
    " \n",
    "`cv2.HoughLinesP(img, rho, theta, threshold, minLineLength, maxLineGap)`\n",
    "    - img:           Binary image (type: np.uint8).\n",
    "    - rho:           Distance resolution of the accumulator in pixels.\n",
    "    - thets:         Angle resolution of the accumulator in radians. \n",
    "    - threshold:     Accumulator threshold parameter. \n",
    "                     Only those lines are returned that get enough votes (> 𝚝𝚑𝚛𝚎𝚜𝚑𝚘𝚕𝚍).\n",
    "    - minLineLength: Minimum line length. Line segments shorter than that are rejected.\n",
    "    - maxLineGap:    Maximum allowed gap between points on the same line to link them."
   ]
  },
  {
   "cell_type": "code",
   "execution_count": 6,
   "metadata": {
    "ExecuteTime": {
     "end_time": "2019-07-28T08:50:58.846512Z",
     "start_time": "2019-07-28T08:50:58.820318Z"
    }
   },
   "outputs": [
    {
     "data": {
      "text/plain": [
       "(4, 1, 4)"
      ]
     },
     "execution_count": 6,
     "metadata": {},
     "output_type": "execute_result"
    }
   ],
   "source": [
    "linesP = cv2.HoughLinesP(canny, 1, np.pi/180, 300, 50, 10)\n",
    "linesP.shape"
   ]
  },
  {
   "cell_type": "markdown",
   "metadata": {},
   "source": [
    "### Display the result"
   ]
  },
  {
   "cell_type": "code",
   "execution_count": 7,
   "metadata": {
    "ExecuteTime": {
     "end_time": "2019-07-28T08:50:59.341928Z",
     "start_time": "2019-07-28T08:50:58.852073Z"
    }
   },
   "outputs": [
    {
     "data": {
      "text/plain": [
       "<matplotlib.image.AxesImage at 0x117711390>"
      ]
     },
     "execution_count": 7,
     "metadata": {},
     "output_type": "execute_result"
    },
    {
     "data": {
      "image/png": "[encoded data removed]",
      "text/plain": [
       "<Figure size 504x504 with 1 Axes>"
      ]
     },
     "metadata": {},
     "output_type": "display_data"
    }
   ],
   "source": [
    "if linesP is not None:\n",
    "    for i in range(0, len(linesP)):\n",
    "        line = linesP[i][0]\n",
    "        cv2.line(img2, (line[0], line[1]), (line[2], line[3]), (255, 0, 0), 3, cv2.LINE_AA)\n",
    "plt.imshow(img2)"
   ]
  }
 ],
 "metadata": {
  "kernelspec": {
   "display_name": "Python 3",
   "language": "python",
   "name": "python3"
  },
  "language_info": {
   "codemirror_mode": {
    "name": "ipython",
    "version": 3
   },
   "file_extension": ".py",
   "mimetype": "text/x-python",
   "name": "python",
   "nbconvert_exporter": "python",
   "pygments_lexer": "ipython3",
   "version": "3.6.5"
  },
  "latex_envs": {
   "LaTeX_envs_menu_present": true,
   "autoclose": false,
   "autocomplete": true,
   "bibliofile": "biblio.bib",
   "cite_by": "apalike",
   "current_citInitial": 1,
   "eqLabelWithNumbers": true,
   "eqNumInitial": 1,
   "hotkeys": {
    "equation": "Ctrl-E",
    "itemize": "Ctrl-I"
   },
   "labels_anchors": false,
   "latex_user_defs": false,
   "report_style_numbering": false,
   "user_envs_cfg": false
  },
  "toc": {
   "base_numbering": 1,
   "nav_menu": {},
   "number_sections": true,
   "sideBar": true,
   "skip_h1_title": false,
   "title_cell": "Table of Contents",
   "title_sidebar": "Contents",
   "toc_cell": false,
   "toc_position": {
    "height": "calc(100% - 180px)",
    "left": "10px",
    "top": "150px",
    "width": "280px"
   },
   "toc_section_display": true,
   "toc_window_display": true
  }
 },
 "nbformat": 4,
 "nbformat_minor": 2
}
